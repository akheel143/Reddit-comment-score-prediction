{
  "nbformat": 4,
  "nbformat_minor": 0,
  "metadata": {
    "colab": {
      "name": "Reddit comment score prediction",
      "provenance": [],
      "collapsed_sections": [],
      "mount_file_id": "1GOefUN1QjxfZ1BY9vxiXlr1B-3urY_Yb",
      "authorship_tag": "ABX9TyN+4LNpTOCwjZJw5fps2WXH",
      "include_colab_link": true
    },
    "kernelspec": {
      "name": "python3",
      "display_name": "Python 3"
    },
    "language_info": {
      "name": "python"
    }
  },
  "cells": [
    {
      "cell_type": "markdown",
      "metadata": {
        "id": "view-in-github",
        "colab_type": "text"
      },
      "source": [
        "<a href=\"https://colab.research.google.com/github/akheel143/Reddit-comment-score-prediction/blob/main/Reddit_comment_score_prediction.ipynb\" target=\"_parent\"><img src=\"https://colab.research.google.com/assets/colab-badge.svg\" alt=\"Open In Colab\"/></a>"
      ]
    },
    {
      "cell_type": "code",
      "metadata": {
        "id": "ZR724oiaW2iV",
        "colab": {
          "base_uri": "https://localhost:8080/"
        },
        "outputId": "18e3596e-d5bd-4b01-c146-1058479f3b37"
      },
      "source": [
        "from google.colab import drive\n",
        "drive.mount('/content/drive')"
      ],
      "execution_count": 1,
      "outputs": [
        {
          "output_type": "stream",
          "text": [
            "Drive already mounted at /content/drive; to attempt to forcibly remount, call drive.mount(\"/content/drive\", force_remount=True).\n"
          ],
          "name": "stdout"
        }
      ]
    },
    {
      "cell_type": "code",
      "metadata": {
        "id": "U8toUduEjKva"
      },
      "source": [
        "import os\n",
        "os.environ['KAGGLE_CONFIG_DIR']='/content/drive/MyDrive/kaggle_datasets'"
      ],
      "execution_count": null,
      "outputs": []
    },
    {
      "cell_type": "code",
      "metadata": {
        "id": "QJlLjYoAZczV",
        "colab": {
          "base_uri": "https://localhost:8080/"
        },
        "outputId": "fdb57ff4-5047-4684-9ac8-8b7f618de589"
      },
      "source": [
        "%cd /content/drive/MyDrive/kaggle_datasets"
      ],
      "execution_count": null,
      "outputs": [
        {
          "output_type": "stream",
          "text": [
            "/content/drive/MyDrive/kaggle_datasets\n"
          ],
          "name": "stdout"
        }
      ]
    },
    {
      "cell_type": "code",
      "metadata": {
        "id": "Q9EFKUrhWjyW",
        "colab": {
          "base_uri": "https://localhost:8080/"
        },
        "outputId": "9894a38f-b100-4cfc-bc85-c4f04caf4f54"
      },
      "source": [
        "!ls"
      ],
      "execution_count": null,
      "outputs": [
        {
          "output_type": "stream",
          "text": [
            "comments_negative.csv  kaggle.json\n",
            "comments_positive.csv  reddit-comment-score-prediction.zip\n"
          ],
          "name": "stdout"
        }
      ]
    },
    {
      "cell_type": "code",
      "metadata": {
        "id": "XuXiyO-aZp04",
        "colab": {
          "base_uri": "https://localhost:8080/"
        },
        "outputId": "95d34fe6-ffa2-47e5-c9d3-4db9ff649976"
      },
      "source": [
        "!kaggle datasets download -d ehallmar/reddit-comment-score-prediction"
      ],
      "execution_count": null,
      "outputs": [
        {
          "output_type": "stream",
          "text": [
            "reddit-comment-score-prediction.zip: Skipping, found more recently modified local copy (use --force to force download)\n"
          ],
          "name": "stdout"
        }
      ]
    },
    {
      "cell_type": "code",
      "metadata": {
        "id": "_jB2CoBJZvx1"
      },
      "source": [
        "path='/content/drive/MyDrive/kaggle_datasets/reddit-comment-score-prediction.zip'"
      ],
      "execution_count": null,
      "outputs": []
    },
    {
      "cell_type": "code",
      "metadata": {
        "colab": {
          "base_uri": "https://localhost:8080/"
        },
        "id": "Qd0e_pUKYl5S",
        "outputId": "7f954913-3af6-43c9-ed65-8d4a5ff0686e"
      },
      "source": [
        "!unzip /content/drive/MyDrive/kaggle_datasets/reddit-comment-score-prediction.zip"
      ],
      "execution_count": null,
      "outputs": [
        {
          "output_type": "stream",
          "text": [
            "Archive:  /content/drive/MyDrive/kaggle_datasets/reddit-comment-score-prediction.zip\n",
            "  inflating: comments_negative.csv   \n",
            "  inflating: comments_positive.csv   \n"
          ],
          "name": "stdout"
        }
      ]
    },
    {
      "cell_type": "code",
      "metadata": {
        "id": "qSXy-ySKYocB"
      },
      "source": [
        "import pandas as pd\n",
        "data_n=pd.read_csv('/content/drive/MyDrive/kaggle_datasets/comments_negative.csv')\n",
        "data_p=pd.read_csv('/content/drive/MyDrive/kaggle_datasets/comments_positive.csv')"
      ],
      "execution_count": 3,
      "outputs": []
    },
    {
      "cell_type": "code",
      "metadata": {
        "colab": {
          "base_uri": "https://localhost:8080/"
        },
        "id": "8SxVToz-ZAZf",
        "outputId": "545fb972-d5aa-42d1-d093-e85d5f196e73"
      },
      "source": [
        "data_n.shape,data_p.shape"
      ],
      "execution_count": 148,
      "outputs": [
        {
          "output_type": "execute_result",
          "data": {
            "text/plain": [
              "((2000000, 15), (2000000, 15))"
            ]
          },
          "metadata": {
            "tags": []
          },
          "execution_count": 148
        }
      ]
    },
    {
      "cell_type": "code",
      "metadata": {
        "id": "8GGwa4La9C5v"
      },
      "source": [
        "data=pd.concat([data_n,data_p],axis=0)"
      ],
      "execution_count": 149,
      "outputs": []
    },
    {
      "cell_type": "code",
      "metadata": {
        "id": "rkjSVgKW_Qwj"
      },
      "source": [
        "df=data.dropna(axis=0, how='any', thresh=None, subset=None, inplace=False)"
      ],
      "execution_count": null,
      "outputs": []
    },
    {
      "cell_type": "code",
      "metadata": {
        "id": "ivXI1ck29SUD"
      },
      "source": [
        "#shuffle the data\n",
        "df= data.sample(frac = 1)"
      ],
      "execution_count": 98,
      "outputs": []
    },
    {
      "cell_type": "code",
      "metadata": {
        "id": "HqupNtWwap86"
      },
      "source": [
        "#mapping authors and parent_authors with there count values\n",
        "df[\"author\"] = df[\"author\"].map(df[\"author\"].value_counts())\n",
        "df[\"parent_author\"] = df[\"parent_author\"].map(df[\"parent_author\"].value_counts())"
      ],
      "execution_count": null,
      "outputs": []
    },
    {
      "cell_type": "code",
      "metadata": {
        "id": "XanD13LQqsZ6"
      },
      "source": [
        "df=df.drop(['id','parent_id','subreddit_id','link_id','parent_link_id'],axis=1)"
      ],
      "execution_count": null,
      "outputs": []
    },
    {
      "cell_type": "code",
      "metadata": {
        "id": "skF49wBQ-SvV"
      },
      "source": [
        "df.shape"
      ],
      "execution_count": null,
      "outputs": []
    },
    {
      "cell_type": "code",
      "metadata": {
        "id": "CveS9T9DcPbZ"
      },
      "source": [
        "df"
      ],
      "execution_count": null,
      "outputs": []
    },
    {
      "cell_type": "code",
      "metadata": {
        "id": "egXFZsNZmbm5"
      },
      "source": [
        "df=df.drop(['text','parent_text'],axis=1)\n",
        "df"
      ],
      "execution_count": null,
      "outputs": []
    },
    {
      "cell_type": "code",
      "metadata": {
        "colab": {
          "base_uri": "https://localhost:8080/",
          "height": 162
        },
        "id": "bMAD6cbknKH7",
        "outputId": "5af2632a-226d-42f2-d57a-4fd904553ef9"
      },
      "source": [
        "df['score']"
      ],
      "execution_count": 2,
      "outputs": [
        {
          "output_type": "error",
          "ename": "NameError",
          "evalue": "ignored",
          "traceback": [
            "\u001b[0;31m---------------------------------------------------------------------------\u001b[0m",
            "\u001b[0;31mNameError\u001b[0m                                 Traceback (most recent call last)",
            "\u001b[0;32m<ipython-input-2-f4647a354c25>\u001b[0m in \u001b[0;36m<module>\u001b[0;34m()\u001b[0m\n\u001b[0;32m----> 1\u001b[0;31m \u001b[0mdf\u001b[0m\u001b[0;34m[\u001b[0m\u001b[0;34m'score'\u001b[0m\u001b[0;34m]\u001b[0m\u001b[0;34m\u001b[0m\u001b[0;34m\u001b[0m\u001b[0m\n\u001b[0m",
            "\u001b[0;31mNameError\u001b[0m: name 'df' is not defined"
          ]
        }
      ]
    },
    {
      "cell_type": "code",
      "metadata": {
        "id": "YiuVy_8xnPk9"
      },
      "source": [
        "df.isnull().sum()"
      ],
      "execution_count": null,
      "outputs": []
    },
    {
      "cell_type": "code",
      "metadata": {
        "colab": {
          "base_uri": "https://localhost:8080/"
        },
        "id": "gNzXRZkRnZTZ",
        "outputId": "667f0685-b704-42dd-8737-401ba498789b"
      },
      "source": [
        "df.dtypes"
      ],
      "execution_count": 107,
      "outputs": [
        {
          "output_type": "execute_result",
          "data": {
            "text/plain": [
              "score                      int64\n",
              "ups                        int64\n",
              "author                     int64\n",
              "controversiality           int64\n",
              "parent_score               int64\n",
              "parent_ups                 int64\n",
              "parent_author              int64\n",
              "parent_controversiality    int64\n",
              "dtype: object"
            ]
          },
          "metadata": {
            "tags": []
          },
          "execution_count": 107
        }
      ]
    },
    {
      "cell_type": "code",
      "metadata": {
        "colab": {
          "base_uri": "https://localhost:8080/",
          "height": 295
        },
        "id": "09a1rNIcnuAR",
        "outputId": "c2ea296d-e3e1-43dc-bd67-53fbeaec87f3"
      },
      "source": [
        "df.describe()"
      ],
      "execution_count": 108,
      "outputs": [
        {
          "output_type": "execute_result",
          "data": {
            "text/html": [
              "<div>\n",
              "<style scoped>\n",
              "    .dataframe tbody tr th:only-of-type {\n",
              "        vertical-align: middle;\n",
              "    }\n",
              "\n",
              "    .dataframe tbody tr th {\n",
              "        vertical-align: top;\n",
              "    }\n",
              "\n",
              "    .dataframe thead th {\n",
              "        text-align: right;\n",
              "    }\n",
              "</style>\n",
              "<table border=\"1\" class=\"dataframe\">\n",
              "  <thead>\n",
              "    <tr style=\"text-align: right;\">\n",
              "      <th></th>\n",
              "      <th>score</th>\n",
              "      <th>ups</th>\n",
              "      <th>author</th>\n",
              "      <th>controversiality</th>\n",
              "      <th>parent_score</th>\n",
              "      <th>parent_ups</th>\n",
              "      <th>parent_author</th>\n",
              "      <th>parent_controversiality</th>\n",
              "    </tr>\n",
              "  </thead>\n",
              "  <tbody>\n",
              "    <tr>\n",
              "      <th>count</th>\n",
              "      <td>4.000000e+06</td>\n",
              "      <td>4.000000e+06</td>\n",
              "      <td>4.000000e+06</td>\n",
              "      <td>4.000000e+06</td>\n",
              "      <td>4.000000e+06</td>\n",
              "      <td>4.000000e+06</td>\n",
              "      <td>4.000000e+06</td>\n",
              "      <td>4.000000e+06</td>\n",
              "    </tr>\n",
              "    <tr>\n",
              "      <th>mean</th>\n",
              "      <td>9.189241e+01</td>\n",
              "      <td>9.189241e+01</td>\n",
              "      <td>5.166132e+04</td>\n",
              "      <td>8.262500e-04</td>\n",
              "      <td>2.185056e+02</td>\n",
              "      <td>2.185056e+02</td>\n",
              "      <td>3.935929e+04</td>\n",
              "      <td>1.706750e-03</td>\n",
              "    </tr>\n",
              "    <tr>\n",
              "      <th>std</th>\n",
              "      <td>2.117502e+02</td>\n",
              "      <td>2.117502e+02</td>\n",
              "      <td>1.441567e+05</td>\n",
              "      <td>2.873269e-02</td>\n",
              "      <td>4.340878e+02</td>\n",
              "      <td>4.340878e+02</td>\n",
              "      <td>1.185128e+05</td>\n",
              "      <td>4.127757e-02</td>\n",
              "    </tr>\n",
              "    <tr>\n",
              "      <th>min</th>\n",
              "      <td>-2.946000e+03</td>\n",
              "      <td>-2.946000e+03</td>\n",
              "      <td>1.000000e+00</td>\n",
              "      <td>0.000000e+00</td>\n",
              "      <td>-8.907000e+03</td>\n",
              "      <td>-8.907000e+03</td>\n",
              "      <td>1.000000e+00</td>\n",
              "      <td>0.000000e+00</td>\n",
              "    </tr>\n",
              "    <tr>\n",
              "      <th>25%</th>\n",
              "      <td>-1.000000e+01</td>\n",
              "      <td>-1.000000e+01</td>\n",
              "      <td>5.000000e+00</td>\n",
              "      <td>0.000000e+00</td>\n",
              "      <td>1.300000e+01</td>\n",
              "      <td>1.300000e+01</td>\n",
              "      <td>4.000000e+00</td>\n",
              "      <td>0.000000e+00</td>\n",
              "    </tr>\n",
              "    <tr>\n",
              "      <th>50%</th>\n",
              "      <td>3.000000e+01</td>\n",
              "      <td>3.000000e+01</td>\n",
              "      <td>1.800000e+01</td>\n",
              "      <td>0.000000e+00</td>\n",
              "      <td>6.600000e+01</td>\n",
              "      <td>6.600000e+01</td>\n",
              "      <td>1.300000e+01</td>\n",
              "      <td>0.000000e+00</td>\n",
              "    </tr>\n",
              "    <tr>\n",
              "      <th>75%</th>\n",
              "      <td>1.160000e+02</td>\n",
              "      <td>1.160000e+02</td>\n",
              "      <td>7.400000e+01</td>\n",
              "      <td>0.000000e+00</td>\n",
              "      <td>2.250000e+02</td>\n",
              "      <td>2.250000e+02</td>\n",
              "      <td>4.900000e+01</td>\n",
              "      <td>0.000000e+00</td>\n",
              "    </tr>\n",
              "    <tr>\n",
              "      <th>max</th>\n",
              "      <td>9.582000e+03</td>\n",
              "      <td>9.582000e+03</td>\n",
              "      <td>4.543610e+05</td>\n",
              "      <td>1.000000e+00</td>\n",
              "      <td>1.477600e+04</td>\n",
              "      <td>1.477600e+04</td>\n",
              "      <td>3.965910e+05</td>\n",
              "      <td>1.000000e+00</td>\n",
              "    </tr>\n",
              "  </tbody>\n",
              "</table>\n",
              "</div>"
            ],
            "text/plain": [
              "              score           ups  ...  parent_author  parent_controversiality\n",
              "count  4.000000e+06  4.000000e+06  ...   4.000000e+06             4.000000e+06\n",
              "mean   9.189241e+01  9.189241e+01  ...   3.935929e+04             1.706750e-03\n",
              "std    2.117502e+02  2.117502e+02  ...   1.185128e+05             4.127757e-02\n",
              "min   -2.946000e+03 -2.946000e+03  ...   1.000000e+00             0.000000e+00\n",
              "25%   -1.000000e+01 -1.000000e+01  ...   4.000000e+00             0.000000e+00\n",
              "50%    3.000000e+01  3.000000e+01  ...   1.300000e+01             0.000000e+00\n",
              "75%    1.160000e+02  1.160000e+02  ...   4.900000e+01             0.000000e+00\n",
              "max    9.582000e+03  9.582000e+03  ...   3.965910e+05             1.000000e+00\n",
              "\n",
              "[8 rows x 8 columns]"
            ]
          },
          "metadata": {
            "tags": []
          },
          "execution_count": 108
        }
      ]
    },
    {
      "cell_type": "code",
      "metadata": {
        "colab": {
          "base_uri": "https://localhost:8080/",
          "height": 350
        },
        "id": "VcWgnHQEn1Uo",
        "outputId": "34df6ca6-85ff-48c1-ac77-84b9e1422c52"
      },
      "source": [
        "import seaborn as sns\n",
        "sns.boxplot(df['score'])\n"
      ],
      "execution_count": 113,
      "outputs": [
        {
          "output_type": "stream",
          "text": [
            "/usr/local/lib/python3.7/dist-packages/seaborn/_decorators.py:43: FutureWarning: Pass the following variable as a keyword arg: x. From version 0.12, the only valid positional argument will be `data`, and passing other arguments without an explicit keyword will result in an error or misinterpretation.\n",
            "  FutureWarning\n"
          ],
          "name": "stderr"
        },
        {
          "output_type": "execute_result",
          "data": {
            "text/plain": [
              "<matplotlib.axes._subplots.AxesSubplot at 0x7f63d5137b10>"
            ]
          },
          "metadata": {
            "tags": []
          },
          "execution_count": 113
        },
        {
          "output_type": "display_data",
          "data": {
            "image/png": "[encoded data removed]",
            "text/plain": [
              "<Figure size 432x288 with 1 Axes>"
            ]
          },
          "metadata": {
            "tags": [],
            "needs_background": "light"
          }
        }
      ]
    },
    {
      "cell_type": "code",
      "metadata": {
        "colab": {
          "base_uri": "https://localhost:8080/",
          "height": 350
        },
        "id": "7LQ_sGnwpHMg",
        "outputId": "8f566824-397a-4610-e661-7f00fe40fc43"
      },
      "source": [
        "sns.boxplot(df['ups'])\n"
      ],
      "execution_count": 114,
      "outputs": [
        {
          "output_type": "stream",
          "text": [
            "/usr/local/lib/python3.7/dist-packages/seaborn/_decorators.py:43: FutureWarning: Pass the following variable as a keyword arg: x. From version 0.12, the only valid positional argument will be `data`, and passing other arguments without an explicit keyword will result in an error or misinterpretation.\n",
            "  FutureWarning\n"
          ],
          "name": "stderr"
        },
        {
          "output_type": "execute_result",
          "data": {
            "text/plain": [
              "<matplotlib.axes._subplots.AxesSubplot at 0x7f63d25e5c90>"
            ]
          },
          "metadata": {
            "tags": []
          },
          "execution_count": 114
        },
        {
          "output_type": "display_data",
          "data": {
            "image/png": "[encoded data removed]",
            "text/plain": [
              "<Figure size 432x288 with 1 Axes>"
            ]
          },
          "metadata": {
            "tags": [],
            "needs_background": "light"
          }
        }
      ]
    },
    {
      "cell_type": "code",
      "metadata": {
        "colab": {
          "base_uri": "https://localhost:8080/",
          "height": 350
        },
        "id": "JLpRIzs_pHD9",
        "outputId": "90251dd1-0da1-4d44-a260-3425841239d9"
      },
      "source": [
        "sns.boxplot(df['parent_score'])"
      ],
      "execution_count": 117,
      "outputs": [
        {
          "output_type": "stream",
          "text": [
            "/usr/local/lib/python3.7/dist-packages/seaborn/_decorators.py:43: FutureWarning: Pass the following variable as a keyword arg: x. From version 0.12, the only valid positional argument will be `data`, and passing other arguments without an explicit keyword will result in an error or misinterpretation.\n",
            "  FutureWarning\n"
          ],
          "name": "stderr"
        },
        {
          "output_type": "execute_result",
          "data": {
            "text/plain": [
              "<matplotlib.axes._subplots.AxesSubplot at 0x7f63ce99b710>"
            ]
          },
          "metadata": {
            "tags": []
          },
          "execution_count": 117
        },
        {
          "output_type": "display_data",
          "data": {
            "image/png": "[encoded data removed]",
            "text/plain": [
              "<Figure size 432x288 with 1 Axes>"
            ]
          },
          "metadata": {
            "tags": [],
            "needs_background": "light"
          }
        }
      ]
    },
    {
      "cell_type": "code",
      "metadata": {
        "colab": {
          "base_uri": "https://localhost:8080/",
          "height": 350
        },
        "id": "ilXTp5e2pHBl",
        "outputId": "8f1c1e7c-97d4-4eff-bcf5-d0cead68e0ed"
      },
      "source": [
        "sns.boxplot(df['parent_ups'])"
      ],
      "execution_count": 120,
      "outputs": [
        {
          "output_type": "stream",
          "text": [
            "/usr/local/lib/python3.7/dist-packages/seaborn/_decorators.py:43: FutureWarning: Pass the following variable as a keyword arg: x. From version 0.12, the only valid positional argument will be `data`, and passing other arguments without an explicit keyword will result in an error or misinterpretation.\n",
            "  FutureWarning\n"
          ],
          "name": "stderr"
        },
        {
          "output_type": "execute_result",
          "data": {
            "text/plain": [
              "<matplotlib.axes._subplots.AxesSubplot at 0x7f63d44f2590>"
            ]
          },
          "metadata": {
            "tags": []
          },
          "execution_count": 120
        },
        {
          "output_type": "display_data",
          "data": {
            "image/png": "[encoded data removed]",
            "text/plain": [
              "<Figure size 432x288 with 1 Axes>"
            ]
          },
          "metadata": {
            "tags": [],
            "needs_background": "light"
          }
        }
      ]
    },
    {
      "cell_type": "code",
      "metadata": {
        "colab": {
          "base_uri": "https://localhost:8080/"
        },
        "id": "7-v_6gTUpG42",
        "outputId": "6d8db931-8820-4f71-cb79-e1aad9ddadcc"
      },
      "source": [
        "df['parent_ups'].unique()"
      ],
      "execution_count": 123,
      "outputs": [
        {
          "output_type": "execute_result",
          "data": {
            "text/plain": [
              "array([  13,   84,   23, ..., 5178, -340, -881])"
            ]
          },
          "metadata": {
            "tags": []
          },
          "execution_count": 123
        }
      ]
    },
    {
      "cell_type": "code",
      "metadata": {
        "id": "lOzmDC1AryHd"
      },
      "source": [
        "from sklearn.model_selection import train_test_split\n",
        "x_train,x_test,y_train,y_test=train_test_split(df.drop('score',axis=1),df['score'],test_size=0.2)"
      ],
      "execution_count": 127,
      "outputs": []
    },
    {
      "cell_type": "code",
      "metadata": {
        "id": "RORH_DyesqMV"
      },
      "source": [
        "from sklearn.preprocessing import StandardScaler\n",
        "scale=StandardScaler()\n",
        "x_train=scale.fit_transform(x_train)\n",
        "x_test=scale.fit_transform(x_test)"
      ],
      "execution_count": 128,
      "outputs": []
    },
    {
      "cell_type": "code",
      "metadata": {
        "id": "CizOxaETrPGS"
      },
      "source": [
        "from sklearn.ensemble import RandomForestRegressor\n",
        "reg=RandomForestRegressor()"
      ],
      "execution_count": 126,
      "outputs": []
    },
    {
      "cell_type": "code",
      "metadata": {
        "id": "V-Gl-C9dvz4K"
      },
      "source": [
        "from "
      ],
      "execution_count": null,
      "outputs": []
    },
    {
      "cell_type": "code",
      "metadata": {
        "colab": {
          "base_uri": "https://localhost:8080/"
        },
        "id": "I2Q9HzlyrkI2",
        "outputId": "9ea0447f-69ae-4228-c9a4-12f36f4dfd39"
      },
      "source": [
        "reg.fit(x_train,y_train)"
      ],
      "execution_count": 129,
      "outputs": [
        {
          "output_type": "execute_result",
          "data": {
            "text/plain": [
              "RandomForestRegressor(bootstrap=True, ccp_alpha=0.0, criterion='mse',\n",
              "                      max_depth=None, max_features='auto', max_leaf_nodes=None,\n",
              "                      max_samples=None, min_impurity_decrease=0.0,\n",
              "                      min_impurity_split=None, min_samples_leaf=1,\n",
              "                      min_samples_split=2, min_weight_fraction_leaf=0.0,\n",
              "                      n_estimators=100, n_jobs=None, oob_score=False,\n",
              "                      random_state=None, verbose=0, warm_start=False)"
            ]
          },
          "metadata": {
            "tags": []
          },
          "execution_count": 129
        }
      ]
    },
    {
      "cell_type": "code",
      "metadata": {
        "colab": {
          "base_uri": "https://localhost:8080/"
        },
        "id": "ut1fXdflxBOX",
        "outputId": "6dc52449-eeac-4f60-cc7d-da9eb229c1c4"
      },
      "source": [
        "reg.score(x_train,y_train)"
      ],
      "execution_count": 131,
      "outputs": [
        {
          "output_type": "execute_result",
          "data": {
            "text/plain": [
              "0.9999936266377756"
            ]
          },
          "metadata": {
            "tags": []
          },
          "execution_count": 131
        }
      ]
    },
    {
      "cell_type": "code",
      "metadata": {
        "colab": {
          "base_uri": "https://localhost:8080/"
        },
        "id": "jzDherpBxbt9",
        "outputId": "83c0e52f-fb44-4bed-dd63-d1eba90b9018"
      },
      "source": [
        "reg.score(x_test,y_test)"
      ],
      "execution_count": 132,
      "outputs": [
        {
          "output_type": "execute_result",
          "data": {
            "text/plain": [
              "0.9999413327193128"
            ]
          },
          "metadata": {
            "tags": []
          },
          "execution_count": 132
        }
      ]
    },
    {
      "cell_type": "code",
      "metadata": {
        "id": "I9htAYKoxzCE"
      },
      "source": [
        "prd=reg.predict(x_test)"
      ],
      "execution_count": 133,
      "outputs": []
    },
    {
      "cell_type": "code",
      "metadata": {
        "colab": {
          "base_uri": "https://localhost:8080/"
        },
        "id": "FgDy0FSwx6uq",
        "outputId": "e91f1f5d-48a2-495b-bf1b-b5d29acd5a2f"
      },
      "source": [
        "prd=prd.reshape(800000,-1)\n",
        "prd[0]"
      ],
      "execution_count": 144,
      "outputs": [
        {
          "output_type": "execute_result",
          "data": {
            "text/plain": [
              "array([-45.])"
            ]
          },
          "metadata": {
            "tags": []
          },
          "execution_count": 144
        }
      ]
    },
    {
      "cell_type": "code",
      "metadata": {
        "id": "hpT0UkmCyBHE"
      },
      "source": [
        ""
      ],
      "execution_count": 147,
      "outputs": []
    }
  ]
}